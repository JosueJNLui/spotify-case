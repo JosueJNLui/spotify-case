{
 "cells": [
  {
   "cell_type": "markdown",
   "metadata": {},
   "source": [
    "The current python notebook shows an example of How to perform an server-to-server authentication using the Client Credentials flow"
   ]
  },
  {
   "cell_type": "markdown",
   "metadata": {},
   "source": [
    "This flow does not include the authorization. So will only be avaiable those endpoints that do not access user information"
   ]
  },
  {
   "cell_type": "code",
   "execution_count": 1,
   "metadata": {},
   "outputs": [],
   "source": [
    "import base64\n",
    "import requests\n",
    "import boto3\n",
    "import json"
   ]
  },
  {
   "cell_type": "code",
   "execution_count": 2,
   "metadata": {},
   "outputs": [],
   "source": [
    "try: AWS_REGION\n",
    "except: AWS_REGION='us-east-2'\n",
    "\n",
    "try:AWS_PROFILE\n",
    "except: AWS_PROFILE='default'"
   ]
  },
  {
   "cell_type": "code",
   "execution_count": 3,
   "metadata": {},
   "outputs": [],
   "source": [
    "session = boto3.Session(profile_name=AWS_PROFILE)\n",
    "client = session.client('ssm', region_name=AWS_REGION)"
   ]
  },
  {
   "cell_type": "code",
   "execution_count": 4,
   "metadata": {},
   "outputs": [],
   "source": [
    "def get_ssm_value(client:str, name: str) -> str:\n",
    "    \n",
    "    response = client.get_parameters(\n",
    "        Names=[name],WithDecryption=True\n",
    "    )\n",
    "    for parameter in response['Parameters']:\n",
    "        return parameter['Value']"
   ]
  },
  {
   "cell_type": "code",
   "execution_count": 5,
   "metadata": {},
   "outputs": [],
   "source": [
    "client_id = get_ssm_value(client, 'dev-josu-client-id')\n",
    "client_secret = get_ssm_value(client, 'dev-josu-client-secret')\n",
    "\n",
    "credentials = f\"{client_id}:{client_secret}\"\n",
    "credentials_base64 = base64.b64encode(credentials.encode()).decode()"
   ]
  },
  {
   "cell_type": "code",
   "execution_count": 6,
   "metadata": {},
   "outputs": [],
   "source": [
    "auth_options = {\n",
    "    'url': 'https://accounts.spotify.com/api/token',\n",
    "    'headers': {\n",
    "        'Authorization':'Basic ' + credentials_base64\n",
    "    },\n",
    "    'data': {\n",
    "        'grant_type': 'client_credentials',\n",
    "        'scope': 'user-read-recently-played'\n",
    "    },\n",
    "    'json': True\n",
    "}"
   ]
  },
  {
   "cell_type": "code",
   "execution_count": 7,
   "metadata": {},
   "outputs": [],
   "source": [
    "response = requests.post(**auth_options)"
   ]
  },
  {
   "cell_type": "code",
   "execution_count": 8,
   "metadata": {},
   "outputs": [],
   "source": [
    "access_token = response.json().get('access_token')"
   ]
  }
 ],
 "metadata": {
  "kernelspec": {
   "display_name": "Python 3",
   "language": "python",
   "name": "python3"
  },
  "language_info": {
   "codemirror_mode": {
    "name": "ipython",
    "version": 3
   },
   "file_extension": ".py",
   "mimetype": "text/x-python",
   "name": "python",
   "nbconvert_exporter": "python",
   "pygments_lexer": "ipython3",
   "version": "3.10.12"
  },
  "orig_nbformat": 4
 },
 "nbformat": 4,
 "nbformat_minor": 2
}
