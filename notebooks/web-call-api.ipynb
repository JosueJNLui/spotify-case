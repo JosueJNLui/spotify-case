{
 "cells": [
  {
   "cell_type": "markdown",
   "metadata": {},
   "source": [
    "The code below represents a web api call test"
   ]
  },
  {
   "cell_type": "code",
   "execution_count": 12,
   "metadata": {},
   "outputs": [],
   "source": [
    "import base64\n",
    "import requests"
   ]
  },
  {
   "cell_type": "code",
   "execution_count": 13,
   "metadata": {},
   "outputs": [],
   "source": [
    "client_id = 'CLIENTE_ID'\n",
    "client_secret = 'CLIENTE_SECRET'\n",
    "\n",
    "credentials = f\"{client_id}:{client_secret}\"\n",
    "credentials_base64 = base64.b64encode(credentials.encode()).decode()"
   ]
  },
  {
   "cell_type": "code",
   "execution_count": 14,
   "metadata": {},
   "outputs": [],
   "source": [
    "authOptions = {\n",
    "    'url': 'https://accounts.spotify.com/api/token',\n",
    "    'headers': {\n",
    "        'Authorization':'Basic ' + credentials_base64\n",
    "    },\n",
    "    'data': {\n",
    "        'grant_type': 'client_credentials'\n",
    "    },\n",
    "    'json': True\n",
    "}"
   ]
  },
  {
   "cell_type": "code",
   "execution_count": 15,
   "metadata": {},
   "outputs": [],
   "source": [
    "response = requests.post(**authOptions)"
   ]
  }
 ],
 "metadata": {
  "kernelspec": {
   "display_name": "Python 3 (ipykernel)",
   "language": "python",
   "name": "python3"
  },
  "language_info": {
   "codemirror_mode": {
    "name": "ipython",
    "version": 3
   },
   "file_extension": ".py",
   "mimetype": "text/x-python",
   "name": "python",
   "nbconvert_exporter": "python",
   "pygments_lexer": "ipython3",
   "version": "3.8.17"
  },
  "orig_nbformat": 4
 },
 "nbformat": 4,
 "nbformat_minor": 2
}
