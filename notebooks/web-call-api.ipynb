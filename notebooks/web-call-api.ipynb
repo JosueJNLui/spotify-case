{
 "cells": [
  {
   "cell_type": "markdown",
   "metadata": {},
   "source": [
    "The code below represents a web api call test"
   ]
  },
  {
   "cell_type": "code",
   "execution_count": null,
   "metadata": {},
   "outputs": [],
   "source": [
    "import base64\n",
    "import requests\n",
    "import boto3\n",
    "import json"
   ]
  },
  {
   "cell_type": "code",
   "execution_count": null,
   "metadata": {},
   "outputs": [],
   "source": [
    "try: AWS_REGION\n",
    "except:\n",
    "    AWS_REGION='us-east-2'\n",
    "\n",
    "try:AWS_PROFILE\n",
    "except:\n",
    "    AWS_PROFILE='default'"
   ]
  },
  {
   "cell_type": "code",
   "execution_count": null,
   "metadata": {},
   "outputs": [],
   "source": [
    "session = boto3.Session(profile_name=AWS_PROFILE)\n",
    "client = session.client('ssm', region_name=AWS_REGION)"
   ]
  },
  {
   "cell_type": "code",
   "execution_count": null,
   "metadata": {},
   "outputs": [],
   "source": [
    "def get_client_id():\n",
    "    response = client.get_parameters(\n",
    "        Names=['dev-josu-client-id'],WithDecryption=True\n",
    "    )\n",
    "    for parameter in response['Parameters']:\n",
    "        return parameter['Value']"
   ]
  },
  {
   "cell_type": "code",
   "execution_count": null,
   "metadata": {},
   "outputs": [],
   "source": [
    "def get_client_secret():\n",
    "    response = client.get_parameters(\n",
    "        Names=['dev-josu-client-secret'],WithDecryption=True\n",
    "    )\n",
    "    for parameter in response['Parameters']:\n",
    "        return parameter['Value']"
   ]
  },
  {
   "cell_type": "code",
   "execution_count": null,
   "metadata": {},
   "outputs": [],
   "source": [
    "client_id = get_client_id()\n",
    "client_secret = get_client_secret()\n",
    "\n",
    "credentials = f\"{client_id}:{client_secret}\"\n",
    "credentials_base64 = base64.b64encode(credentials.encode()).decode()"
   ]
  },
  {
   "cell_type": "code",
   "execution_count": null,
   "metadata": {},
   "outputs": [],
   "source": [
    "authOptions = {\n",
    "    'url': 'https://accounts.spotify.com/api/token',\n",
    "    'headers': {\n",
    "        'Authorization':'Basic ' + credentials_base64\n",
    "    },\n",
    "    'data': {\n",
    "        'grant_type': 'client_credentials'\n",
    "    },\n",
    "    'json': True\n",
    "}"
   ]
  },
  {
   "cell_type": "code",
   "execution_count": null,
   "metadata": {},
   "outputs": [],
   "source": [
    "response = requests.post(**authOptions)"
   ]
  }
 ],
 "metadata": {
  "kernelspec": {
   "display_name": "Python 3 (ipykernel)",
   "language": "python",
   "name": "python3"
  },
  "language_info": {
   "codemirror_mode": {
    "name": "ipython",
    "version": 3
   },
   "file_extension": ".py",
   "mimetype": "text/x-python",
   "name": "python",
   "nbconvert_exporter": "python",
   "pygments_lexer": "ipython3",
   "version": "3.8.17"
  },
  "orig_nbformat": 4
 },
 "nbformat": 4,
 "nbformat_minor": 2
}
